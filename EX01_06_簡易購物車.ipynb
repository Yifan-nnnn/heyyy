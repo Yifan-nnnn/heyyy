{
  "nbformat": 4,
  "nbformat_minor": 0,
  "metadata": {
    "colab": {
      "provenance": [],
      "authorship_tag": "ABX9TyO/cLVPRzAnQbMM9FxAOj44",
      "include_colab_link": true
    },
    "kernelspec": {
      "name": "python3",
      "display_name": "Python 3"
    },
    "language_info": {
      "name": "python"
    }
  },
  "cells": [
    {
      "cell_type": "markdown",
      "metadata": {
        "id": "view-in-github",
        "colab_type": "text"
      },
      "source": [
        "<a href=\"https://colab.research.google.com/github/Yifan-nnnn/heyyy/blob/main/EX01_06_%E7%B0%A1%E6%98%93%E8%B3%BC%E7%89%A9%E8%BB%8A.ipynb\" target=\"_parent\"><img src=\"https://colab.research.google.com/assets/colab-badge.svg\" alt=\"Open In Colab\"/></a>"
      ]
    },
    {
      "cell_type": "code",
      "execution_count": null,
      "metadata": {
        "colab": {
          "base_uri": "https://localhost:8080/"
        },
        "id": "jYQMlwIQQus_",
        "outputId": "dbfeddf3-362f-459a-d702-3028903be993"
      },
      "outputs": [
        {
          "output_type": "stream",
          "name": "stdout",
          "text": [
            "商品欄 : apple/25,banana/12,cherry/30\n",
            "購物車 : \n",
            "功能列 : 1.加入商品 2.移除商品 3.結帳 4.離開\n"
          ]
        }
      ],
      "source": [
        "from IPython.display import clear_output\n",
        "shopping_cart = []\n",
        "products = {\"apple\":25, \"banana\":12, \"cherry\":30}\n",
        "while True:\n",
        "  clear_output()\n",
        "  print(\"商品欄 :\", \",\".join(f'{pd}/{pr}' for pd, pr in products.items()))\n",
        "  print(\"購物車 :\", \",\".join(shopping_cart))\n",
        "  print(\"功能列 :\", \"1.加入商品 2.移除商品 3.結帳 4.離開\")\n",
        "  act = input()\n",
        "  if act == \"1\":\n",
        "    shopping_cart.append(act[1:])\n",
        "  elif act == \"2\":\n",
        "    shopping_cart.remove(act[1:])\n",
        "  elif act == \"3\":\n",
        "    tt = 0\n",
        "    for pd in shopping_cart:\n",
        "      tt += products[pd]\n",
        "    print(\"結帳金額 :\", tt)\n",
        "  elif act == \"4\":\n",
        "    print(\"Bye\")\n",
        "    break\n",
        "  elif act != \"1\" and act != \"2\" and act != \"3\" and act != \"4\":\n",
        "    continue"
      ]
    }
  ]
}