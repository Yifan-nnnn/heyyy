{
  "nbformat": 4,
  "nbformat_minor": 0,
  "metadata": {
    "colab": {
      "provenance": [],
      "authorship_tag": "ABX9TyOWppelJfB5eNNmHROPYf4Z",
      "include_colab_link": true
    },
    "kernelspec": {
      "name": "python3",
      "display_name": "Python 3"
    },
    "language_info": {
      "name": "python"
    }
  },
  "cells": [
    {
      "cell_type": "markdown",
      "metadata": {
        "id": "view-in-github",
        "colab_type": "text"
      },
      "source": [
        "<a href=\"https://colab.research.google.com/github/Yifan-nnnn/heyyy/blob/main/EX01_02_BMI.ipynb\" target=\"_parent\"><img src=\"https://colab.research.google.com/assets/colab-badge.svg\" alt=\"Open In Colab\"/></a>"
      ]
    },
    {
      "cell_type": "code",
      "execution_count": 7,
      "metadata": {
        "colab": {
          "base_uri": "https://localhost:8080/"
        },
        "id": "vrxvwValJNSP",
        "outputId": "8dcd1126-afa3-4de5-a196-735a1ed9aa14"
      },
      "outputs": [
        {
          "output_type": "stream",
          "name": "stdout",
          "text": [
            "weight(kg) =100\n",
            "height(cm) =200\n",
            "BMI = 25.0\n"
          ]
        }
      ],
      "source": [
        "w = float(input(\"weight(kg) =\"))\n",
        "h = float(input(\"height(cm) =\"))\n",
        "result = float(w / (h/100)**2)\n",
        "BMI = float(round(result, 1))\n",
        "print(\"BMI =\", BMI)"
      ]
    }
  ]
}