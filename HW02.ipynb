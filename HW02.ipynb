{
  "nbformat": 4,
  "nbformat_minor": 0,
  "metadata": {
    "colab": {
      "provenance": [],
      "include_colab_link": true
    },
    "kernelspec": {
      "name": "python3",
      "display_name": "Python 3"
    },
    "language_info": {
      "name": "python"
    }
  },
  "cells": [
    {
      "cell_type": "markdown",
      "metadata": {
        "id": "view-in-github",
        "colab_type": "text"
      },
      "source": [
        "<a href=\"https://colab.research.google.com/github/Yifan-nnnn/heyyy/blob/main/HW02.ipynb\" target=\"_parent\"><img src=\"https://colab.research.google.com/assets/colab-badge.svg\" alt=\"Open In Colab\"/></a>"
      ]
    },
    {
      "cell_type": "markdown",
      "source": [
        "# HW02 Web Crawler"
      ],
      "metadata": {
        "id": "eo72fZ0YlURV"
      }
    },
    {
      "cell_type": "markdown",
      "source": [
        "## 題目"
      ],
      "metadata": {
        "id": "gUsBAopRJMJD"
      }
    },
    {
      "cell_type": "markdown",
      "source": [
        "麻辣鍋獵人"
      ],
      "metadata": {
        "id": "pDHhflLyJRgS"
      }
    },
    {
      "cell_type": "markdown",
      "source": [
        "## 摘要"
      ],
      "metadata": {
        "id": "hbqT3pl04Hl9"
      }
    },
    {
      "cell_type": "markdown",
      "source": [
        "本報告旨在透過網路爬蟲技術，收集愛食記網站上麻辣鍋的十五個推薦資料，為晚餐提供參考。"
      ],
      "metadata": {
        "id": "eweMw-wh4TC0"
      }
    },
    {
      "cell_type": "markdown",
      "source": [
        "## 引言"
      ],
      "metadata": {
        "id": "9nb1aHAM4XiE"
      }
    },
    {
      "cell_type": "markdown",
      "source": [
        "三不五時想吃麻辣鍋嗎? 已經吃到麻辣鍋店荒了嗎? 想要開發更多愛店嗎?\n",
        "\n",
        "本次爬蟲的目標是獲取愛食記平台上麻辣鍋的十五個推薦名單，分析其均價、地址、評分等資訊，為麻辣鍋愛好者提供決策支持。"
      ],
      "metadata": {
        "id": "0ZmT034r5F9R"
      }
    },
    {
      "cell_type": "markdown",
      "source": [
        "## 方法"
      ],
      "metadata": {
        "id": "8YMFd39F4n4l"
      }
    },
    {
      "cell_type": "markdown",
      "source": [
        "- 目標網站描述\n",
        "  - 目標網站：愛食記 麻辣鍋推薦頁面。  \n",
        "  https://ifoodie.tw/explore/list/%E9%BA%BB%E8%BE%A3%E9%8D%8B\n",
        "  - 頁面結構：包含餐廳名稱、評分、均價、地址、圖片等資訊。\n",
        "\n",
        "- 工具與技術\n",
        "  - 使用 Python 的 `requests` 庫發送 HTTP 請求。\n",
        "  - 使用 `BeautifulSoup` 解析 HTML。\n",
        "  - 使用 Google Chrome 開發者工具取得 AJAX 資料。\n"
      ],
      "metadata": {
        "id": "zkix6XqZ429E"
      }
    },
    {
      "cell_type": "code",
      "source": [
        "# 爬取資料程式碼\n",
        "import requests\n",
        "from bs4 import BeautifulSoup\n",
        "url = \"https://ifoodie.tw/explore/list/%E9%BA%BB%E8%BE%A3%E9%8D%8B\"\n",
        "headers = {\n",
        "    \"user-agent\":\"Mozilla/5.0 (Windows NT 10.0; Win64; x64) AppleWebKit/537.36 (KHTML, like Gecko) Chrome/136.0.0.0 Safari/537.36\",\n",
        "    \"Accept-Language\":\"zh-TW,zh;q=0.9,en-US;q=0.8,en;q=0.7\",\n",
        "    \"Accept-Encoding\": \"gzip, deflate, br, zstd\",\n",
        "    \"x-client-data\": \"CIW2yQEIorbJAQipncoBCNKgygEI/u/KAQiSocsBCIWgzQEIu+rOAQ==\"}\n",
        "html = requests.get(url, headers=headers)\n",
        "html.encoding = \"utf-8\"\n",
        "soup = BeautifulSoup(html.text, \"lxml\")"
      ],
      "metadata": {
        "id": "ziaWIQ0t8vKt"
      },
      "execution_count": 1,
      "outputs": []
    },
    {
      "cell_type": "markdown",
      "source": [
        "## 結果\n"
      ],
      "metadata": {
        "id": "mHEo_iad7QMa"
      }
    },
    {
      "cell_type": "markdown",
      "source": [
        "- 數據存儲方式\n",
        "  - 將數據存儲為 CSV 格式，方便後續分析。"
      ],
      "metadata": {
        "id": "Fx3h33cU8n8t"
      }
    },
    {
      "cell_type": "code",
      "source": [
        "# 展示資料程式碼\n",
        "import csv\n",
        "from IPython.display import Image, display\n",
        "\n",
        "res = []\n",
        "\n",
        "for rt in soup.select(\"div[class*='restaurant-info']\"):\n",
        "  title = rt.select_one(\".title-text\").text.strip()\n",
        "  rate = rt.select_one(\".rating-star\").text.strip()\n",
        "  avg_price = rt.select_one(\".avg-price\").text.strip()\n",
        "  address = rt.select_one(\".address-row\").text.strip()\n",
        "  photo = rt.select_one(\".cover\")\n",
        "  if photo and photo.has_attr(\"data-src\"):\n",
        "    photo_url = photo[\"data-src\"]\n",
        "  else:\n",
        "    photo_url = photo[\"src\"]\n",
        "  res.append([title, rate, avg_price, address, photo_url])\n",
        "  print(title, rate, avg_price, address, photo_url)\n",
        "  display(Image(url=photo_url, width=300))\n",
        "\n",
        "with open(\"麻辣鍋推薦.csv\", \"w\", encoding=\"utf-8-sig\", newline=\"\") as f:\n",
        "    writer = csv.writer(f)\n",
        "    writer.writerow([\"店名\", \"評分\", \"均價\", \"地址\", \"圖片\"])\n",
        "    writer.writerows(res)"
      ],
      "metadata": {
        "id": "jsLbLuSa8mnY",
        "colab": {
          "base_uri": "https://localhost:8080/",
          "height": 1000
        },
        "outputId": "0dad8077-110c-4fc3-9277-efd2c5c4bdb1"
      },
      "execution_count": 2,
      "outputs": [
        {
          "output_type": "stream",
          "name": "stdout",
          "text": [
            "肉老大頂級肉品涮涮鍋 永安店 4.8 · 均消 $800 新北市中和區中和路380號2樓 https://lh3.googleusercontent.com/YUoRWOVaHIrXcW3uaXVYXKHhpJAUgwh4S-IyD-A5SA-ZnkQSUu7v2Kh3YW1c_W7hwWuDPODExLPP8Ju1xJzmCvLrBff8Ar8vNphgFhfwMJLdew=s360\n"
          ]
        },
        {
          "output_type": "display_data",
          "data": {
            "text/html": [
              "<img src=\"https://lh3.googleusercontent.com/YUoRWOVaHIrXcW3uaXVYXKHhpJAUgwh4S-IyD-A5SA-ZnkQSUu7v2Kh3YW1c_W7hwWuDPODExLPP8Ju1xJzmCvLrBff8Ar8vNphgFhfwMJLdew=s360\" width=\"300\"/>"
            ],
            "text/plain": [
              "<IPython.core.display.Image object>"
            ]
          },
          "metadata": {}
        },
        {
          "output_type": "stream",
          "name": "stdout",
          "text": [
            "石‧撈麻辣火鍋 4.7 · 均消 $800 臺北市中山區松江路95之1號3樓 https://lh3.googleusercontent.com/r88JPO3PGofNp6_HZxJ9PH2SB8GJJubcch3PS8b8wUShlQcvOFQ-gTzAl-c-rfjGIm5XxF02_C9xp72tZdPuWlJXfhZtQmkuJeKleOj9pS8v=s360\n"
          ]
        },
        {
          "output_type": "display_data",
          "data": {
            "text/html": [
              "<img src=\"https://lh3.googleusercontent.com/r88JPO3PGofNp6_HZxJ9PH2SB8GJJubcch3PS8b8wUShlQcvOFQ-gTzAl-c-rfjGIm5XxF02_C9xp72tZdPuWlJXfhZtQmkuJeKleOj9pS8v=s360\" width=\"300\"/>"
            ],
            "text/plain": [
              "<IPython.core.display.Image object>"
            ]
          },
          "metadata": {}
        },
        {
          "output_type": "stream",
          "name": "stdout",
          "text": [
            "魚擺擺魚火鍋 4.8 · 均消 $1100 臺北市中山區長安東路一段87號 https://lh3.googleusercontent.com/oPvwNzgT1U1EL79RQsNELaQ5EM4JzekCkkQQ_2JPiq0JI0q2O5yJZmt2B3jJF82fPuihdtR9myb79lOXEGaLgxKUy4gXxSs54ZMjAb5r0_dt=s360\n"
          ]
        },
        {
          "output_type": "display_data",
          "data": {
            "text/html": [
              "<img src=\"https://lh3.googleusercontent.com/oPvwNzgT1U1EL79RQsNELaQ5EM4JzekCkkQQ_2JPiq0JI0q2O5yJZmt2B3jJF82fPuihdtR9myb79lOXEGaLgxKUy4gXxSs54ZMjAb5r0_dt=s360\" width=\"300\"/>"
            ],
            "text/plain": [
              "<IPython.core.display.Image object>"
            ]
          },
          "metadata": {}
        },
        {
          "output_type": "stream",
          "name": "stdout",
          "text": [
            "涮樂和牛鍋物 西門店 4.7 · 均消 $900 臺北市萬華區峨眉街37號3樓 https://lh3.googleusercontent.com/7TWCtvvJfIhdlJ-IHY6Y9T0xq0gKTOD1y9KtztONmIhTkzhk9necYBv-vpWkm2lwn2T1JTzDhl5Tcus1NVU3D4OQHUoPNlvNWaLfsU3qvXjT=s360\n"
          ]
        },
        {
          "output_type": "display_data",
          "data": {
            "text/html": [
              "<img src=\"https://lh3.googleusercontent.com/7TWCtvvJfIhdlJ-IHY6Y9T0xq0gKTOD1y9KtztONmIhTkzhk9necYBv-vpWkm2lwn2T1JTzDhl5Tcus1NVU3D4OQHUoPNlvNWaLfsU3qvXjT=s360\" width=\"300\"/>"
            ],
            "text/plain": [
              "<IPython.core.display.Image object>"
            ]
          },
          "metadata": {}
        },
        {
          "output_type": "stream",
          "name": "stdout",
          "text": [
            "青木堂 4.4 · 均消 $350 高雄市苓雅區林泉街77號 https://lh3.googleusercontent.com/3NFg6TQldT8Qvk0x85XZbL947uxSth_RZoMKB-c3WraW4mrBmtLx2OYJHO3Z8Ahbe8kJb5RPUvvCFIJ1uBRIhA3uIV0gCWAg=s360\n"
          ]
        },
        {
          "output_type": "display_data",
          "data": {
            "text/html": [
              "<img src=\"https://lh3.googleusercontent.com/3NFg6TQldT8Qvk0x85XZbL947uxSth_RZoMKB-c3WraW4mrBmtLx2OYJHO3Z8Ahbe8kJb5RPUvvCFIJ1uBRIhA3uIV0gCWAg=s360\" width=\"300\"/>"
            ],
            "text/plain": [
              "<IPython.core.display.Image object>"
            ]
          },
          "metadata": {}
        },
        {
          "output_type": "stream",
          "name": "stdout",
          "text": [
            "夫妻肺片 4.5 · 均消 $800 桃園市桃園區中正路1015號 https://lh3.googleusercontent.com/ekiLtYdjPj2o41nQslH98RvDGTK5X3heeS35U9UsJT3KibIWS3yLKMKB8KG-qX6S2vmDxQUSJMIzUKXkvCCoAcRJQqCV5cM=s360\n"
          ]
        },
        {
          "output_type": "display_data",
          "data": {
            "text/html": [
              "<img src=\"https://lh3.googleusercontent.com/ekiLtYdjPj2o41nQslH98RvDGTK5X3heeS35U9UsJT3KibIWS3yLKMKB8KG-qX6S2vmDxQUSJMIzUKXkvCCoAcRJQqCV5cM=s360\" width=\"300\"/>"
            ],
            "text/plain": [
              "<IPython.core.display.Image object>"
            ]
          },
          "metadata": {}
        },
        {
          "output_type": "stream",
          "name": "stdout",
          "text": [
            "藍象廷泰鍋 4.1 · 均消 $639 台中市北區三民路三段161號 https://lh6.ggpht.com/fTXQqibMG7qedL-FntTUPLDjMS2HA9ZRR7xdIp9AX1g6Xh1AQLBolibl53LQ817HZk7x11rNpPWKZuniNfnG-CAIw8mDV_Lt=s360\n"
          ]
        },
        {
          "output_type": "display_data",
          "data": {
            "text/html": [
              "<img src=\"https://lh6.ggpht.com/fTXQqibMG7qedL-FntTUPLDjMS2HA9ZRR7xdIp9AX1g6Xh1AQLBolibl53LQ817HZk7x11rNpPWKZuniNfnG-CAIw8mDV_Lt=s360\" width=\"300\"/>"
            ],
            "text/plain": [
              "<IPython.core.display.Image object>"
            ]
          },
          "metadata": {}
        },
        {
          "output_type": "stream",
          "name": "stdout",
          "text": [
            "饗食鍋 4.6 · 均消 $350 新北市永和區永貞路391號 https://lh3.googleusercontent.com/WRhK6_BpNA2UCEIrNS8az9NS7NaoH5vjFx5j_enwWnM5LEe9AMumn8ckRjh4lIyqB3GSJnym_dC8Qt5_nj3M4zNckm_E_DfuIwU-6_vPkjE=s360\n"
          ]
        },
        {
          "output_type": "display_data",
          "data": {
            "text/html": [
              "<img src=\"https://lh3.googleusercontent.com/WRhK6_BpNA2UCEIrNS8az9NS7NaoH5vjFx5j_enwWnM5LEe9AMumn8ckRjh4lIyqB3GSJnym_dC8Qt5_nj3M4zNckm_E_DfuIwU-6_vPkjE=s360\" width=\"300\"/>"
            ],
            "text/plain": [
              "<IPython.core.display.Image object>"
            ]
          },
          "metadata": {}
        },
        {
          "output_type": "stream",
          "name": "stdout",
          "text": [
            "徠圍爐北方風味館 4.3 · 均消 $800 臺中市西屯區寧夏路108號 https://lh3.googleusercontent.com/I5oJNJroY6MahDEek2xK3-Y4hNPpgir91DfK9K8p4UlZTjw7dgbFT78Mh7oxFe-T9d-lU5hE3L1LBJf5Cd_N8gZi_C0Ib_M=s360\n"
          ]
        },
        {
          "output_type": "display_data",
          "data": {
            "text/html": [
              "<img src=\"https://lh3.googleusercontent.com/I5oJNJroY6MahDEek2xK3-Y4hNPpgir91DfK9K8p4UlZTjw7dgbFT78Mh7oxFe-T9d-lU5hE3L1LBJf5Cd_N8gZi_C0Ib_M=s360\" width=\"300\"/>"
            ],
            "text/plain": [
              "<IPython.core.display.Image object>"
            ]
          },
          "metadata": {}
        },
        {
          "output_type": "stream",
          "name": "stdout",
          "text": [
            "鬥牛士二鍋 台中新時代店 4.6 · 均消 $400 臺中市東區復興路四段186號11樓 https://lh3.googleusercontent.com/_1MwUM7QZQGM484BBn4aaHhi7gRlunDUqEwjMUpQbrLwejmX8r7XNzF3KTvmJpHvW6gFX0S4OIPBqUXXZZxSzACfpM6qux1opuTH1LEqJgNH=s360\n"
          ]
        },
        {
          "output_type": "display_data",
          "data": {
            "text/html": [
              "<img src=\"https://lh3.googleusercontent.com/_1MwUM7QZQGM484BBn4aaHhi7gRlunDUqEwjMUpQbrLwejmX8r7XNzF3KTvmJpHvW6gFX0S4OIPBqUXXZZxSzACfpM6qux1opuTH1LEqJgNH=s360\" width=\"300\"/>"
            ],
            "text/plain": [
              "<IPython.core.display.Image object>"
            ]
          },
          "metadata": {}
        },
        {
          "output_type": "stream",
          "name": "stdout",
          "text": [
            "懶鍋時尚湯鍋 北龍店 4.7 · 均消 $460 桃園市龍潭區北龍路357號 https://lh3.googleusercontent.com/nVvduJ66ik_EDe_j9r2ydCkguM1X3CaNtARwg9D579ioU4Mr6q3DDacbyxF-iLl-lw7BGltFh5KD498VtrlEZzJLJkLy2p8KLUEoAU_RmhYQ=s360\n"
          ]
        },
        {
          "output_type": "display_data",
          "data": {
            "text/html": [
              "<img src=\"https://lh3.googleusercontent.com/nVvduJ66ik_EDe_j9r2ydCkguM1X3CaNtARwg9D579ioU4Mr6q3DDacbyxF-iLl-lw7BGltFh5KD498VtrlEZzJLJkLy2p8KLUEoAU_RmhYQ=s360\" width=\"300\"/>"
            ],
            "text/plain": [
              "<IPython.core.display.Image object>"
            ]
          },
          "metadata": {}
        },
        {
          "output_type": "stream",
          "name": "stdout",
          "text": [
            "深紅汕頭鍋物 民權店 4.8 · 均消 $1000 臺北市松山區民權東路三段106巷32號 https://lh3.googleusercontent.com/g-4mK1OlrET_aHRZiLHLRxl9H3yWj5DBGcHXN9UkCqVRzJ12d_TdLUplXklrzb-HhMh1Gq8ilSAz0V-6x7plnv-X84Hpz8Qoi5TCj39CuWk=s360\n"
          ]
        },
        {
          "output_type": "display_data",
          "data": {
            "text/html": [
              "<img src=\"https://lh3.googleusercontent.com/g-4mK1OlrET_aHRZiLHLRxl9H3yWj5DBGcHXN9UkCqVRzJ12d_TdLUplXklrzb-HhMh1Gq8ilSAz0V-6x7plnv-X84Hpz8Qoi5TCj39CuWk=s360\" width=\"300\"/>"
            ],
            "text/plain": [
              "<IPython.core.display.Image object>"
            ]
          },
          "metadata": {}
        },
        {
          "output_type": "stream",
          "name": "stdout",
          "text": [
            "重慶樓 老火鍋 4.9 · 均消 $1300 新北市林口區民族路239號 https://lh3.googleusercontent.com/ZP2a0P5zZqbYpz2TjW7hD3GA4H0vUW7ODEw-CIpo1OtbiAyhfoGioRGhboyMRdHcOGMN0qQdiSpIX3nvce-GmkWtbNnI-gs4H0FlC6rsjvo=s360\n"
          ]
        },
        {
          "output_type": "display_data",
          "data": {
            "text/html": [
              "<img src=\"https://lh3.googleusercontent.com/ZP2a0P5zZqbYpz2TjW7hD3GA4H0vUW7ODEw-CIpo1OtbiAyhfoGioRGhboyMRdHcOGMN0qQdiSpIX3nvce-GmkWtbNnI-gs4H0FlC6rsjvo=s360\" width=\"300\"/>"
            ],
            "text/plain": [
              "<IPython.core.display.Image object>"
            ]
          },
          "metadata": {}
        },
        {
          "output_type": "stream",
          "name": "stdout",
          "text": [
            "謝謝一鍋 4.9 · 均消 $400 臺北市大同區民族西路223號 https://lh3.googleusercontent.com/9jCEVT5ulho4k8XFmrrytbBC_7AHfB4xZvJO1BHr3hPOlo2frlySh-hGuqu-pK31K9dYVm_LlReLtPbI14wQbTBmod2cedh_5Can3VPjd-F6=s360\n"
          ]
        },
        {
          "output_type": "display_data",
          "data": {
            "text/html": [
              "<img src=\"https://lh3.googleusercontent.com/9jCEVT5ulho4k8XFmrrytbBC_7AHfB4xZvJO1BHr3hPOlo2frlySh-hGuqu-pK31K9dYVm_LlReLtPbI14wQbTBmod2cedh_5Can3VPjd-F6=s360\" width=\"300\"/>"
            ],
            "text/plain": [
              "<IPython.core.display.Image object>"
            ]
          },
          "metadata": {}
        },
        {
          "output_type": "stream",
          "name": "stdout",
          "text": [
            "香川撈麵林口店 4.9 · 均消 $250 新北市林口區文化三路二段65號 https://lh3.googleusercontent.com/OncKcUEQOSsxZq3Vdby58z-TzL5DlRwS1dR0IxqbkcfRDxLw0PEl717GgQtXg9JEAp81Wx7aVSecLYh2L_q7gOv72H7L0NzIUkg708cSq7UxjA=s360\n"
          ]
        },
        {
          "output_type": "display_data",
          "data": {
            "text/html": [
              "<img src=\"https://lh3.googleusercontent.com/OncKcUEQOSsxZq3Vdby58z-TzL5DlRwS1dR0IxqbkcfRDxLw0PEl717GgQtXg9JEAp81Wx7aVSecLYh2L_q7gOv72H7L0NzIUkg708cSq7UxjA=s360\" width=\"300\"/>"
            ],
            "text/plain": [
              "<IPython.core.display.Image object>"
            ]
          },
          "metadata": {}
        }
      ]
    },
    {
      "cell_type": "markdown",
      "source": [
        "## 問題與挑戰"
      ],
      "metadata": {
        "id": "6yHFop_b73gY"
      }
    },
    {
      "cell_type": "markdown",
      "source": [
        "- 技術挑戰  \n",
        "    class的內容和上課範例稍微不同，需要想辦法調整\n",
        "    \n",
        "    前四筆資料後的圖片都用了lazyload，不能直接抓src"
      ],
      "metadata": {
        "id": "D6roihku8PBu"
      }
    },
    {
      "cell_type": "markdown",
      "source": [
        "## 結論"
      ],
      "metadata": {
        "id": "VeQHgVuqqD3J"
      }
    },
    {
      "cell_type": "markdown",
      "source": [
        "\n",
        "- 成功獲取並分析了愛食記推薦的十五個麻辣鍋店資訊，為晚餐提供了有價值的參考。\n",
        "- 未來可擴展至其他旅遊平台，進行跨平台比較分析。"
      ],
      "metadata": {
        "id": "Baea2g7J9DAL"
      }
    },
    {
      "cell_type": "markdown",
      "source": [
        "## 參考文獻"
      ],
      "metadata": {
        "id": "j5hI_9QW9dTt"
      }
    },
    {
      "cell_type": "markdown",
      "source": [
        "* [愛食記](https://ifoodie.tw/)"
      ],
      "metadata": {
        "id": "eLFvp2Fk9fSa"
      }
    }
  ]
}