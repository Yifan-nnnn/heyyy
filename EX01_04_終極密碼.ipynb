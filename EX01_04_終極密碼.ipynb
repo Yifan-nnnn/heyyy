{
  "nbformat": 4,
  "nbformat_minor": 0,
  "metadata": {
    "colab": {
      "provenance": [],
      "authorship_tag": "ABX9TyOWA7fA1NTtpnFmOhC0KYhE",
      "include_colab_link": true
    },
    "kernelspec": {
      "name": "python3",
      "display_name": "Python 3"
    },
    "language_info": {
      "name": "python"
    }
  },
  "cells": [
    {
      "cell_type": "markdown",
      "metadata": {
        "id": "view-in-github",
        "colab_type": "text"
      },
      "source": [
        "<a href=\"https://colab.research.google.com/github/Yifan-nnnn/heyyy/blob/main/EX01_04_%E7%B5%82%E6%A5%B5%E5%AF%86%E7%A2%BC.ipynb\" target=\"_parent\"><img src=\"https://colab.research.google.com/assets/colab-badge.svg\" alt=\"Open In Colab\"/></a>"
      ]
    },
    {
      "cell_type": "code",
      "execution_count": null,
      "metadata": {
        "id": "f_aUMzJTywis"
      },
      "outputs": [],
      "source": [
        "import random\n",
        "bomb = random.randint(1, 99)\n",
        "a = 0\n",
        "b = 100\n",
        "while True:\n",
        "  print(a, \"-\", b)\n",
        "  guess = int(input(\"guess :\"))\n",
        "  #超過範圍\n",
        "  if guess <= a or guess >= b:\n",
        "    print(\"超過範圍\")\n",
        "  #比炸彈小\n",
        "  if guess < bomb:\n",
        "    a = guess\n",
        "  #比炸彈大\n",
        "  elif guess > bomb:\n",
        "    b = guess\n",
        "  else:\n",
        "      print(\"猜中\")\n",
        "      break\n",
        "print(\"bomb =\", bomb)"
      ]
    }
  ]
}