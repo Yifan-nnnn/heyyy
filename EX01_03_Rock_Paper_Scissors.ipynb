{
  "nbformat": 4,
  "nbformat_minor": 0,
  "metadata": {
    "colab": {
      "provenance": [],
      "authorship_tag": "ABX9TyOHJEAOnvuxtE+9GXiBPqo7",
      "include_colab_link": true
    },
    "kernelspec": {
      "name": "python3",
      "display_name": "Python 3"
    },
    "language_info": {
      "name": "python"
    }
  },
  "cells": [
    {
      "cell_type": "markdown",
      "metadata": {
        "id": "view-in-github",
        "colab_type": "text"
      },
      "source": [
        "<a href=\"https://colab.research.google.com/github/Yifan-nnnn/heyyy/blob/main/EX01_03_Rock_Paper_Scissors.ipynb\" target=\"_parent\"><img src=\"https://colab.research.google.com/assets/colab-badge.svg\" alt=\"Open In Colab\"/></a>"
      ]
    },
    {
      "cell_type": "code",
      "execution_count": 2,
      "metadata": {
        "colab": {
          "base_uri": "https://localhost:8080/"
        },
        "id": "UuJ9ZCoNOaML",
        "outputId": "14124e8b-b493-4eeb-8aff-bfc2c5579629"
      },
      "outputs": [
        {
          "output_type": "stream",
          "name": "stdout",
          "text": [
            "5\n",
            "you win\n",
            "0\n"
          ]
        }
      ],
      "source": [
        "import random\n",
        "a = int(input())\n",
        "b = random.choice([0, 2, 5])\n",
        "if a == b:\n",
        "    print(\"draw\")\n",
        "elif (a == 0 and b == 2) or (a == 5 and b == 0) or (a == 2 and b == 5):\n",
        "    print(\"you win\")\n",
        "else:\n",
        "    print(\"you lose\")\n",
        "print(b)"
      ]
    }
  ]
}