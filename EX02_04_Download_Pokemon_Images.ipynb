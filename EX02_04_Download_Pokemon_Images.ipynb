{
  "nbformat": 4,
  "nbformat_minor": 0,
  "metadata": {
    "colab": {
      "provenance": [],
      "authorship_tag": "ABX9TyPhb84zMymEhLSdxpKemCHr",
      "include_colab_link": true
    },
    "kernelspec": {
      "name": "python3",
      "display_name": "Python 3"
    },
    "language_info": {
      "name": "python"
    }
  },
  "cells": [
    {
      "cell_type": "markdown",
      "metadata": {
        "id": "view-in-github",
        "colab_type": "text"
      },
      "source": [
        "<a href=\"https://colab.research.google.com/github/Yifan-nnnn/heyyy/blob/main/EX02_04_Download_Pokemon_Images.ipynb\" target=\"_parent\"><img src=\"https://colab.research.google.com/assets/colab-badge.svg\" alt=\"Open In Colab\"/></a>"
      ]
    },
    {
      "cell_type": "code",
      "execution_count": 2,
      "metadata": {
        "colab": {
          "base_uri": "https://localhost:8080/",
          "height": 35
        },
        "id": "59EsH7OhROsN",
        "outputId": "698f3847-8a98-4813-fd43-66bf70939e69"
      },
      "outputs": [
        {
          "output_type": "execute_result",
          "data": {
            "text/plain": [
              "'/play/resources/pokedex/img/pm/88d7d07cea7353587f9ff8da6fa844bdbc5ba1e6.png'"
            ],
            "application/vnd.google.colaboratory.intrinsic+json": {
              "type": "string"
            }
          },
          "metadata": {},
          "execution_count": 2
        }
      ],
      "source": [
        "import requests\n",
        "from bs4 import BeautifulSoup\n",
        "\n",
        "url = \"https://tw.portal-pokemon.com/play/pokedex/0719_1\"\n",
        "\n",
        "response = requests.get(url)\n",
        "soup = BeautifulSoup(response.text, \"lxml\")\n",
        "soup.find(\"img\", class_=\"pokemon-img__front\").get(\"src\")"
      ]
    },
    {
      "cell_type": "code",
      "source": [
        "img_url = \"https://tw.portal-pokemon.com\" + soup.find(\"img\", class_=\"pokemon-img__front\")[\"src\"]\n",
        "\n",
        "img = requests.get(img_url)\n",
        "with open(\"0719_1.png\", \"wb\") as f:\n",
        "    f.write(img.content)"
      ],
      "metadata": {
        "id": "SQf0PJJJWv7U"
      },
      "execution_count": 3,
      "outputs": []
    },
    {
      "cell_type": "code",
      "source": [
        "import requests\n",
        "from bs4 import BeautifulSoup\n",
        "\n",
        "for i in range(1,11):\n",
        "  id = f\"{i:04}\"\n",
        "  url = f\"https://tw.portal-pokemon.com/play/pokedex/{id}\"\n",
        "  response = requests.get(url) #網頁\n",
        "  soup = BeautifulSoup(response.text, \"lxml\")\n",
        "  img_src = soup.find(\"img\", class_=\"pokemon-img__front\")[\"src\"]\n",
        "  img_url = \"https://tw.portal-pokemon.com\" + img_src\n",
        "  img = requests.get(img_url)\n",
        "  with open(f\"/content/{id}.png\", \"wb\") as f:\n",
        "    f.write(img.content)"
      ],
      "metadata": {
        "id": "ZDdjPf_qX2hI"
      },
      "execution_count": 2,
      "outputs": []
    }
  ]
}